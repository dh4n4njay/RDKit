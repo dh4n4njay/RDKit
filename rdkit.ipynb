{
  "nbformat": 4,
  "nbformat_minor": 0,
  "metadata": {
    "colab": {
      "provenance": [],
      "authorship_tag": "ABX9TyPryGI38bXDsH1FEOzh09as",
      "include_colab_link": true
    },
    "kernelspec": {
      "name": "python3",
      "display_name": "Python 3"
    },
    "language_info": {
      "name": "python"
    }
  },
  "cells": [
    {
      "cell_type": "markdown",
      "metadata": {
        "id": "view-in-github",
        "colab_type": "text"
      },
      "source": [
        "<a href=\"https://colab.research.google.com/github/dh4n4njay/RDKit/blob/main/rdkit.ipynb\" target=\"_parent\"><img src=\"https://colab.research.google.com/assets/colab-badge.svg\" alt=\"Open In Colab\"/></a>"
      ]
    },
    {
      "cell_type": "code",
      "execution_count": null,
      "metadata": {
        "colab": {
          "base_uri": "https://localhost:8080/"
        },
        "id": "x-zJ3dSPq0dE",
        "outputId": "1dfc89ce-1ecf-4900-9f9a-a304b1efd40f"
      },
      "outputs": [
        {
          "output_type": "stream",
          "name": "stdout",
          "text": [
            "Collecting rdkit\n",
            "  Downloading rdkit-2025.3.6-cp312-cp312-manylinux_2_28_x86_64.whl.metadata (4.1 kB)\n",
            "Requirement already satisfied: numpy in /usr/local/lib/python3.12/dist-packages (from rdkit) (2.0.2)\n",
            "Requirement already satisfied: Pillow in /usr/local/lib/python3.12/dist-packages (from rdkit) (11.3.0)\n",
            "Downloading rdkit-2025.3.6-cp312-cp312-manylinux_2_28_x86_64.whl (36.1 MB)\n",
            "\u001b[2K   \u001b[90m━━━━━━━━━━━━━━━━━━━━━━━━━━━━━━━━━━━━━━━━\u001b[0m \u001b[32m36.1/36.1 MB\u001b[0m \u001b[31m16.5 MB/s\u001b[0m eta \u001b[36m0:00:00\u001b[0m\n",
            "\u001b[?25hInstalling collected packages: rdkit\n",
            "Successfully installed rdkit-2025.3.6\n"
          ]
        }
      ],
      "source": [
        "!pip install rdkit\n"
      ]
    },
    {
      "cell_type": "markdown",
      "source": [
        "First, and foremost, let's start creating some structures using their SMILES notations."
      ],
      "metadata": {
        "id": "tyOkwBP_vUdg"
      }
    },
    {
      "cell_type": "code",
      "source": [
        "#Creating Molecules from SMILES\n",
        "#Please refer to SMILES repository in case you have not, or if you would like to know what SMILE is and what are these notations.\n",
        "\n",
        "from rdkit import Chem #imports the chem module from RDKit\n",
        "from rdkit.Chem import Draw #imports the draw module from RDKit. We will see its use in the next code cell\n",
        "aspirin = Chem.MolFromSmiles(\"CC(=O)OC1=CC=CC=C1C(=O)O\")\n",
        "caffeine = Chem.MolFromSmiles(\"CN1C=NC2=C1C(=O)N(C(=O)N2C)C\")\n"
      ],
      "metadata": {
        "id": "T_lnF5jnrCIA"
      },
      "execution_count": null,
      "outputs": []
    },
    {
      "cell_type": "code",
      "source": [
        "img = Draw.MolsToImage([aspirin, caffeine])\n",
        "img.show()  # Displays side-by-side\n",
        "display(img)"
      ],
      "metadata": {
        "colab": {
          "base_uri": "https://localhost:8080/",
          "height": 217
        },
        "id": "BBHMrVmturuR",
        "outputId": "c59821f0-6429-4b3b-b088-0364f5fd4153"
      },
      "execution_count": null,
      "outputs": [
        {
          "output_type": "display_data",
          "data": {
            "text/plain": [
              "<PIL.Image.Image image mode=RGBA size=400x200>"
            ],
            "image/png": "[encoded data removed]"
          },
          "metadata": {}
        }
      ]
    },
    {
      "cell_type": "markdown",
      "source": [
        "Now let's calculate some basic properties."
      ],
      "metadata": {
        "id": "RqZZ9iSfvhNQ"
      }
    },
    {
      "cell_type": "code",
      "metadata": {
        "id": "ef546262"
      },
      "source": [
        "from rdkit.Chem import Descriptors"
      ],
      "execution_count": null,
      "outputs": []
    },
    {
      "cell_type": "code",
      "source": [
        "print(f\"Aspirin molecular weight: {Descriptors.MolWt(aspirin):.2f}\")\n",
        "print(f\"Heavy atoms count for aspirin: {Descriptors.HeavyAtomCount(aspirin)}\")\n",
        "print(f\"Caffeine molecular weight: {Descriptors.MolWt(caffeine):.2f}\")"
      ],
      "metadata": {
        "colab": {
          "base_uri": "https://localhost:8080/"
        },
        "id": "RetXc2Ptvpnt",
        "outputId": "eeb03472-83de-4ed0-bfd5-1ee0c0c20932"
      },
      "execution_count": null,
      "outputs": [
        {
          "output_type": "stream",
          "name": "stdout",
          "text": [
            "Aspirin molecular weight: 180.16\n",
            "Heavy atoms count for aspirin: 13\n",
            "Caffeine molecular weight: 194.19\n"
          ]
        }
      ]
    },
    {
      "cell_type": "code",
      "source": [
        "all_desc_asp=Descriptors.CalcMolDescriptors(aspirin)\n",
        "print(all_desc_asp)"
      ],
      "metadata": {
        "colab": {
          "base_uri": "https://localhost:8080/"
        },
        "id": "C0lTULwqVFos",
        "outputId": "5ed27655-72e0-4bbc-f415-2f7ff5ffbb3d"
      },
      "execution_count": null,
      "outputs": [
        {
          "output_type": "stream",
          "name": "stdout",
          "text": [
            "{'MaxAbsEStateIndex': np.float64(10.611948223733938), 'MaxEStateIndex': np.float64(10.611948223733938), 'MinAbsEStateIndex': np.float64(0.01601851851851821), 'MinEStateIndex': np.float64(-1.1140277777777776), 'qed': 0.5501217966938848, 'SPS': 9.307692307692308, 'MolWt': 180.15899999999996, 'HeavyAtomMolWt': 172.09499999999997, 'ExactMolWt': 180.042258736, 'NumValenceElectrons': 68, 'NumRadicalElectrons': 0, 'MaxPartialCharge': 0.33900378687731025, 'MinPartialCharge': -0.4775395271554559, 'MaxAbsPartialCharge': 0.4775395271554559, 'MinAbsPartialCharge': 0.33900378687731025, 'FpDensityMorgan1': 1.3076923076923077, 'FpDensityMorgan2': 1.9230769230769231, 'FpDensityMorgan3': 2.4615384615384617, 'BCUT2D_MWHI': 16.53611122125433, 'BCUT2D_MWLOW': 10.182282381035343, 'BCUT2D_CHGHI': 2.104306980957856, 'BCUT2D_CHGLO': -2.0311320919470135, 'BCUT2D_LOGPHI': 2.1698345568128055, 'BCUT2D_LOGPLOW': -2.063000061964296, 'BCUT2D_MRHI': 5.913065796110142, 'BCUT2D_MRLOW': -0.13141434244030561, 'AvgIpc': 2.0325369160995868, 'BalabanJ': np.float64(3.0435273546341013), 'BertzCT': 343.2228677267164, 'Chi0': np.float64(9.844934982691242), 'Chi0n': 6.9813595436500515, 'Chi0v': 6.9813595436500515, 'Chi1': np.float64(6.109060905280622), 'Chi1n': 3.6174536478673316, 'Chi1v': 3.6174536478673316, 'Chi2n': 2.3949556783206725, 'Chi2v': 2.3949556783206725, 'Chi3n': 1.3711546649445037, 'Chi3v': 1.3711546649445037, 'Chi4n': 0.8871712192374142, 'Chi4v': 0.8871712192374142, 'HallKierAlpha': -1.8399999999999999, 'Ipc': np.float64(729.6807528797516), 'Kappa1': 9.249605734767023, 'Kappa2': 3.7092512583454584, 'Kappa3': 2.297415032519928, 'LabuteASA': 74.75705264447721, 'PEOE_VSA1': 9.843390348640755, 'PEOE_VSA10': 11.3129633249809, 'PEOE_VSA11': 0.0, 'PEOE_VSA12': 0.0, 'PEOE_VSA13': 0.0, 'PEOE_VSA14': 11.938610575903699, 'PEOE_VSA2': 4.794537184071822, 'PEOE_VSA3': 4.794537184071822, 'PEOE_VSA4': 0.0, 'PEOE_VSA5': 0.0, 'PEOE_VSA6': 12.13273413692322, 'PEOE_VSA7': 12.13273413692322, 'PEOE_VSA8': 6.923737199690624, 'PEOE_VSA9': 0.0, 'SMR_VSA1': 19.432464716784395, 'SMR_VSA10': 11.938610575903699, 'SMR_VSA2': 0.0, 'SMR_VSA3': 0.0, 'SMR_VSA4': 0.0, 'SMR_VSA5': 6.923737199690624, 'SMR_VSA6': 0.0, 'SMR_VSA7': 29.828919765543436, 'SMR_VSA8': 0.0, 'SMR_VSA9': 5.749511833283905, 'SlogP_VSA1': 4.736862953800049, 'SlogP_VSA10': 0.0, 'SlogP_VSA11': 5.749511833283905, 'SlogP_VSA12': 0.0, 'SlogP_VSA2': 17.045137970744406, 'SlogP_VSA3': 4.794537184071822, 'SlogP_VSA4': 0.0, 'SlogP_VSA5': 17.28172587545944, 'SlogP_VSA6': 24.26546827384644, 'SlogP_VSA7': 0.0, 'SlogP_VSA8': 0.0, 'SlogP_VSA9': 0.0, 'TPSA': 63.60000000000001, 'EState_VSA1': np.float64(11.938610575903699), 'EState_VSA10': np.float64(9.589074368143644), 'EState_VSA11': np.float64(0.0), 'EState_VSA2': np.float64(11.3129633249809), 'EState_VSA3': np.float64(0.0), 'EState_VSA4': np.float64(0.0), 'EState_VSA5': np.float64(19.056471336613843), 'EState_VSA6': np.float64(12.13273413692322), 'EState_VSA7': np.float64(0.0), 'EState_VSA8': np.float64(4.736862953800049), 'EState_VSA9': np.float64(5.106527394840706), 'VSA_EState1': np.float64(4.686898148148147), 'VSA_EState10': np.float64(0.0), 'VSA_EState2': np.float64(21.184767573696142), 'VSA_EState3': np.float64(8.687243008314436), 'VSA_EState4': np.float64(-0.01601851851851821), 'VSA_EState5': np.float64(-1.575879629629629), 'VSA_EState6': np.float64(5.978792517006803), 'VSA_EState7': np.float64(0.0), 'VSA_EState8': np.float64(1.2208635676492818), 'VSA_EState9': np.float64(0.0), 'FractionCSP3': 0.1111111111111111, 'HeavyAtomCount': 13, 'NHOHCount': 1, 'NOCount': 4, 'NumAliphaticCarbocycles': 0, 'NumAliphaticHeterocycles': 0, 'NumAliphaticRings': 0, 'NumAmideBonds': 0, 'NumAromaticCarbocycles': 1, 'NumAromaticHeterocycles': 0, 'NumAromaticRings': 1, 'NumAtomStereoCenters': 0, 'NumBridgeheadAtoms': 0, 'NumHAcceptors': 3, 'NumHDonors': 1, 'NumHeteroatoms': 4, 'NumHeterocycles': 0, 'NumRotatableBonds': 2, 'NumSaturatedCarbocycles': 0, 'NumSaturatedHeterocycles': 0, 'NumSaturatedRings': 0, 'NumSpiroAtoms': 0, 'NumUnspecifiedAtomStereoCenters': 0, 'Phi': 2.639162439298765, 'RingCount': 1, 'MolLogP': 1.3101, 'MolMR': 44.71030000000002, 'fr_Al_COO': 0, 'fr_Al_OH': 0, 'fr_Al_OH_noTert': 0, 'fr_ArN': 0, 'fr_Ar_COO': 1, 'fr_Ar_N': 0, 'fr_Ar_NH': 0, 'fr_Ar_OH': 0, 'fr_COO': 1, 'fr_COO2': 1, 'fr_C_O': 2, 'fr_C_O_noCOO': 1, 'fr_C_S': 0, 'fr_HOCCN': 0, 'fr_Imine': 0, 'fr_NH0': 0, 'fr_NH1': 0, 'fr_NH2': 0, 'fr_N_O': 0, 'fr_Ndealkylation1': 0, 'fr_Ndealkylation2': 0, 'fr_Nhpyrrole': 0, 'fr_SH': 0, 'fr_aldehyde': 0, 'fr_alkyl_carbamate': 0, 'fr_alkyl_halide': 0, 'fr_allylic_oxid': 0, 'fr_amide': 0, 'fr_amidine': 0, 'fr_aniline': 0, 'fr_aryl_methyl': 0, 'fr_azide': 0, 'fr_azo': 0, 'fr_barbitur': 0, 'fr_benzene': 1, 'fr_benzodiazepine': 0, 'fr_bicyclic': 0, 'fr_diazo': 0, 'fr_dihydropyridine': 0, 'fr_epoxide': 0, 'fr_ester': 1, 'fr_ether': 1, 'fr_furan': 0, 'fr_guanido': 0, 'fr_halogen': 0, 'fr_hdrzine': 0, 'fr_hdrzone': 0, 'fr_imidazole': 0, 'fr_imide': 0, 'fr_isocyan': 0, 'fr_isothiocyan': 0, 'fr_ketone': 0, 'fr_ketone_Topliss': 0, 'fr_lactam': 0, 'fr_lactone': 0, 'fr_methoxy': 0, 'fr_morpholine': 0, 'fr_nitrile': 0, 'fr_nitro': 0, 'fr_nitro_arom': 0, 'fr_nitro_arom_nonortho': 0, 'fr_nitroso': 0, 'fr_oxazole': 0, 'fr_oxime': 0, 'fr_para_hydroxylation': 1, 'fr_phenol': 0, 'fr_phenol_noOrthoHbond': 0, 'fr_phos_acid': 0, 'fr_phos_ester': 0, 'fr_piperdine': 0, 'fr_piperzine': 0, 'fr_priamide': 0, 'fr_prisulfonamd': 0, 'fr_pyridine': 0, 'fr_quatN': 0, 'fr_sulfide': 0, 'fr_sulfonamd': 0, 'fr_sulfone': 0, 'fr_term_acetylene': 0, 'fr_tetrazole': 0, 'fr_thiazole': 0, 'fr_thiocyan': 0, 'fr_thiophene': 0, 'fr_unbrch_alkane': 0, 'fr_urea': 0}\n"
          ]
        }
      ]
    },
    {
      "cell_type": "markdown",
      "source": [
        "**Calculating Number of atoms**"
      ],
      "metadata": {
        "id": "grMvDxSkXBzL"
      }
    }
  ]
}